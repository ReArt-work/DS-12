{
 "cells": [
  {
   "cell_type": "code",
   "execution_count": null,
   "outputs": [],
   "source": [
    "import requests\n",
    "from bs4 import BeautifulSoup\n",
    "import sqlite3\n",
    "import string\n",
    "import unicodedata\n",
    "# Приєднуєиося до сторінки flatfy\n",
    "HEADERS ={'User-Agent': 'Mozilla/5.0 (Macintosh; Intel Mac OS X 10_15_7) AppleWebKit/537.36 (KHTML, like Gecko) Chrome/103.0.0.0 Safari/537.36'}\n",
    "olx_link = requests.get('https://flatfy.ua/search?geo_id=1&page=1&section_id=2')\n",
    "olx_link.encoding = \"utf-8\"\n",
    "soup = BeautifulSoup(olx_link.text, 'html.parser')\n",
    "prod_div = soup.find('div', \"table-view-wrap\").find_all('article', 'realty-preview')\n",
    "data_list = []\n",
    "\n",
    "# Проходимо по сторінці\n",
    "\n",
    "for i in prod_div:\n",
    "    listinlist = []\n",
    "    listinlist.append(int(((i.find('div', 'realty-preview-price realty-preview-price--main').text).split(\" \")[0]).replace(u'\\xa0',''))) #Ціна\n",
    "    listinlist.append(float(i.find('div', 'realty-preview-properties-item').text.split(' ')[0])) #К-кість кімнат\n",
    "    listinlist.append(float(i.find('div', 'realty-preview-properties-item').findNext('div').text.split(' ')[0])) #Площа\n",
    "    listinlist.append(i.find('a', 'realty-preview-sub-title').findNext('a').text.split(' ')[0]) #Район\n",
    "    listinlist.append(i.find('h3', 'realty-preview-title').text) #Адреса\n",
    "    build_type = i.find('a', 'realty-preview-sub-title').text.split(' ')[0]\n",
    "    if build_type == \"ЖК\" or build_type == \"ЖМ\":\n",
    "        listinlist.append(1)\n",
    "    else:\n",
    "        listinlist.append(0) #ЖК чи ні\n",
    "    card_link = requests.get(\"https://flatfy.ua/uk/\" + str(i.find('a', target='_blank').get('href'))[4:], allow_redirects=True, headers=HEADERS) # переходимо по посиланню з карточки\n",
    "    card_link.encoding = \"utf-8\"\n",
    "    soup2 = BeautifulSoup(card_link.text, 'html.parser')\n",
    "    card_link = requests.get(soup2.find('a', 'redirect-link').get('href')) # отримуємо лінк карточки з редиректу\n",
    "    print(card_link.url) # первірка посилання\n",
    "    soup2 = BeautifulSoup(card_link.text, 'html.parser')\n",
    "    #listinlist.append(soup2.find('div','offer-view-details-column').findNext('div','offer-view-details-column').findNext('span').text) !!! тут тупняк почався\n",
    "    data_list.append(listinlist)\n",
    "\n",
    "print(data_list)"
   ],
   "metadata": {
    "collapsed": false,
    "pycharm": {
     "name": "#%%\n",
     "is_executing": true
    }
   }
  },
  {
   "cell_type": "code",
   "execution_count": null,
   "outputs": [],
   "source": [],
   "metadata": {
    "collapsed": false,
    "pycharm": {
     "name": "#%%\n",
     "is_executing": true
    }
   }
  }
 ],
 "metadata": {
  "kernelspec": {
   "display_name": "Python 3",
   "language": "python",
   "name": "python3"
  },
  "language_info": {
   "codemirror_mode": {
    "name": "ipython",
    "version": 2
   },
   "file_extension": ".py",
   "mimetype": "text/x-python",
   "name": "python",
   "nbconvert_exporter": "python",
   "pygments_lexer": "ipython2",
   "version": "2.7.6"
  }
 },
 "nbformat": 4,
 "nbformat_minor": 0
}