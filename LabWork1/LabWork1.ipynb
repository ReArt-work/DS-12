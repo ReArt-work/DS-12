{
 "cells": [
  {
   "cell_type": "markdown",
   "source": [
    "# 1. Markdown Cells\n",
    "* Hi! It's Main Academy?\n",
    "* All HTML tabs are supported!\n",
    "* Моя сторінка на [Лінкедін](https://www.linkedin.com/in/artem-reut-84062a226/)\n",
    "\n",
    "\n",
    "# This is Heading1\n",
    "## This is Heading2\n",
    "<span style=\"color:gray\">*some gray colored text*</span>.\n",
    ">This is where we can bring quotes and present them nicely.\n",
    "\n",
    "And this is paragraph about something very important. Even math:\n",
    "<div style=\"text-align: right\">$y_{sub} = \\sqrt{(x_{sub})}$</div>\n",
    "\n",
    "Or python code example:\n",
    "```{python}\n",
    "import math:\n",
    "def(foo):\n",
    "    return\"foo\"\n",
    "```\n",
    "\n",
    "Here is the sample mean:\n",
    "<div style=\"text-align: right\">$\\bar{y} = \\frac{1}{n}\\sum_{i = 1}^{n}y_{i}$</div>\n",
    "\n",
    "Here is the sample variance:\n",
    "<div style=\"text-align: right\">$\\sigma^2 =  \\frac{\\sum_{i = 1}^{n}(y_{i}-\\bar{y})^2}{n-1}$</div>\n",
    "\n",
    "Here is the sample standard deviation:\n",
    "<div style=\"text-align: right\">$\\sigma = \\sqrt{\\frac{\\sum_{i = 1}^{n}(y_{i}-\\bar{y})^2}{n-1}}$</div>\n",
    "\n"
   ],
   "metadata": {
    "collapsed": false,
    "pycharm": {
     "name": "#%% md\n"
    }
   }
  },
  {
   "cell_type": "code",
   "execution_count": null,
   "metadata": {
    "collapsed": true,
    "pycharm": {
     "name": "#%%\n"
    }
   },
   "outputs": [],
   "source": []
  },
  {
   "cell_type": "markdown",
   "source": [],
   "metadata": {
    "collapsed": false,
    "pycharm": {
     "name": "#%% md\n"
    }
   }
  }
 ],
 "metadata": {
  "kernelspec": {
   "display_name": "Python 3",
   "language": "python",
   "name": "python3"
  },
  "language_info": {
   "codemirror_mode": {
    "name": "ipython",
    "version": 2
   },
   "file_extension": ".py",
   "mimetype": "text/x-python",
   "name": "python",
   "nbconvert_exporter": "python",
   "pygments_lexer": "ipython2",
   "version": "2.7.6"
  }
 },
 "nbformat": 4,
 "nbformat_minor": 0
}