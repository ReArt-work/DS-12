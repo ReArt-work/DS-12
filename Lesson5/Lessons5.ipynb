{
 "cells":[
  {
   "cell_type":"code",
   "source":[
    "# Завдання 1\n",
    "a = int(input(\"Введіть число 'a'\"))\n",
    "b = int(input(\"Введіть число 'b'\"))\n",
    "print(list((range(a,b+1))))"
   ],
   "execution_count":46,
   "outputs":[
    {
     "name":"stdout",
     "text":[
      "Введіть число 'a' 7\n",
      "Введіть число 'b' 9\n",
      "[7, 8, 9]\n"
     ],
     "output_type":"stream"
    }
   ],
   "metadata":{
    "datalore":{
     "type":"CODE",
     "hide_input_from_viewers":false,
     "hide_output_from_viewers":false
    }
   }
  },
  {
   "cell_type":"code",
   "source":[
    "# Завдання 2\n",
    "num_list = []\n",
    "a = range(10)\n",
    "for i in a:\n",
    "    num_list.append(int(input(f\"Введите число {i+1}\")))\n",
    "print(\"Сума чисел дорівнює\",sum(num_list))"
   ],
   "execution_count":47,
   "outputs":[
    {
     "name":"stdout",
     "text":[
      "Введите число 1 5\n",
      "Введите число 2 6\n",
      "Введите число 3 18\n",
      "Введите число 4 92\n",
      "Введите число 5 3\n",
      "Введите число 6 10\n",
      "Введите число 7 8\n",
      "Введите число 8 64\n",
      "Введите число 9 22\n",
      "Введите число 10 7\n",
      "Сума чисел дорівнює 235\n"
     ],
     "output_type":"stream"
    }
   ],
   "metadata":{
    "datalore":{
     "type":"CODE",
     "hide_input_from_viewers":false,
     "hide_output_from_viewers":false
    }
   }
  },
  {
   "cell_type":"code",
   "source":[
    "# Завдання 3\n",
    "import random\n",
    "a = range(int(input(\"Введіть кількість чисел\")))\n",
    "b = range(101)\n",
    "num_list = []\n",
    "for i in a:\n",
    "    num_list.append(random.choice(b))\n",
    "num_list_pairs = []\n",
    "\n",
    "for i in num_list:\n",
    "    if i % 2 == 0:\n",
    "        num_list_pairs.append(i)\n",
    "\n",
    "num_list_nopairs = []\n",
    "for i in range(len(num_list)):\n",
    "    if num_list[i] % 2 != 0:\n",
    "        num_list_nopairs.append(i)\n",
    "print(\"Рандомний список чисел від 0 до 100: \",num_list)\n",
    "print(\"Список парних чисел: \",num_list_pairs)\n",
    "print(\"Список індексів парних чисел: \",num_list_nopairs)\n"
   ],
   "execution_count":48,
   "outputs":[
    {
     "name":"stdout",
     "text":[
      "Введіть кількість чисел 4\n",
      "Рандомний список чисел від 0 до 100:  [100, 16, 20, 16]\n",
      "Список парних чисел:  [100, 16, 20, 16]\n",
      "Список індексів парних чисел:  []\n"
     ],
     "output_type":"stream"
    }
   ],
   "metadata":{
    "datalore":{
     "type":"CODE",
     "hide_input_from_viewers":false,
     "hide_output_from_viewers":false
    }
   }
  },
  {
   "cell_type":"code",
   "source":[
    "# Завдання 4\n",
    "c = range(int(input(\"Введіть к-кість чисел Фібоначі, котрі хочете побачити\")))\n",
    "a, b = 0, 1\n",
    "for i in c:\n",
    "    print(a)\n",
    "    d = b\n",
    "    b += a \n",
    "    a = d\n",
    "    \n"
   ],
   "execution_count":49,
   "outputs":[
    {
     "name":"stdout",
     "text":[
      "Введіть к-кість чисел Фібоначі, котрі хочете побачити 8\n",
      "0\n",
      "1\n",
      "1\n",
      "2\n",
      "3\n",
      "5\n",
      "8\n",
      "13\n"
     ],
     "output_type":"stream"
    }
   ],
   "metadata":{
    "datalore":{
     "type":"CODE",
     "hide_input_from_viewers":false,
     "hide_output_from_viewers":false
    }
   }
  },
  {
   "cell_type":"code",
   "source":[
    "# Завдання 5\n",
    "a = int(input(\"Введіть будь-яке натуральне число\"))\n",
    "b = range(1,a+1)\n",
    "c = 1\n",
    "for i in b:\n",
    "    c *= i\n",
    "print(f\"Факторіал числа {a} дорівнює \",c)"
   ],
   "execution_count":50,
   "outputs":[
    {
     "name":"stdout",
     "text":[
      "Введіть будь-яке натуральне число 8\n",
      "Факторіал числа 8 дорівнює  40320\n"
     ],
     "output_type":"stream"
    }
   ],
   "metadata":{
    "datalore":{
     "type":"CODE",
     "hide_input_from_viewers":false,
     "hide_output_from_viewers":false
    }
   }
  },
  {
   "cell_type":"code",
   "source":[
    "# Завдання 6\n",
    "num_list = [185,185,176,171,163,186,186,170,192,174]\n",
    "a = range(10)\n",
    "avg_num = sum(num_list)\/len(num_list)\n",
    "med_num = (num_list[4] + num_list[5]) \/ 2\n",
    "b = 0\n",
    "for i in num_list:\n",
    "    a = (i - avg_num)**2\n",
    "    b += a\n",
    "avg_sqr = (b\/avg_num)**0.5\n",
    "print(\"Середнє значення дорівнює \",avg_num)\n",
    "print(\"Медіана дорівнює \",med_num)\n",
    "print(\"Стандартне відхилення дорівнює \",avg_sqr)"
   ],
   "execution_count":1,
   "outputs":[
    {
     "name":"stdout",
     "text":[
      "Середнє значення дорівнює  178.8\n",
      "Медіана дорівнює  174.5\n",
      "Стандартне відхилення дорівнює  2.0800533464162303\n"
     ],
     "output_type":"stream"
    }
   ],
   "metadata":{
    "datalore":{
     "type":"CODE",
     "hide_input_from_viewers":false,
     "hide_output_from_viewers":false
    }
   }
  },
  {
   "cell_type":"code",
   "source":[
    "# Завдання 7\n",
    "num_list = []\n",
    "for i in range(4):\n",
    "    num_list.append(int(input(\"Введіть число\")))\n",
    "simple_num = []\n",
    "for i in num_list:\n",
    "    a = range(2,i)\n",
    "    b = 0\n",
    "    if i == 1:\n",
    "        simple_num.append(i)\n",
    "    else:\n",
    "        for num in a:\n",
    "            if i % num != 0:\n",
    "                b += 1\n",
    "            if b == len(a):\n",
    "                simple_num.append(i)\n",
    "        \n",
    "            \n",
    "\n",
    "print(\"Ви ввели \",len(simple_num),\" простих чисел, ось вони: \", simple_num)"
   ],
   "execution_count":13,
   "outputs":[
    {
     "name":"stdout",
     "text":[
      "Введіть число 1\n",
      "Введіть число 41414141\n",
      "Введіть число 23\n",
      "Введіть число 27\n",
      "Ви ввели  2  простих чисел, ось вони:  [1, 23]\n"
     ],
     "output_type":"stream"
    }
   ],
   "metadata":{
    "datalore":{
     "type":"CODE",
     "hide_input_from_viewers":false,
     "hide_output_from_viewers":false
    }
   }
  }
 ],
 "metadata":{
  "datalore":{
   "version":1,
   "computation_mode":"JUPYTER",
   "package_manager":"pip",
   "base_environment":"default",
   "packages":[
    
   ]
  }
 },
 "nbformat":4,
 "nbformat_minor":4
}