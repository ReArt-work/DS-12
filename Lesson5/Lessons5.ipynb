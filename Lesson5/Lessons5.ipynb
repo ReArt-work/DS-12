{
 "cells": [
  {
   "cell_type": "code",
   "source": [
    "# Завдання 1\n",
    "a = int(input(\"Введіть число 'a'\"))\n",
    "b = int(input(\"Введіть число 'b'\"))\n",
    "print(list((range(a,b+1))))"
   ],
   "execution_count": null,
   "outputs": [],
   "metadata": {
    "datalore": {
     "type": "CODE",
     "hide_input_from_viewers": false,
     "hide_output_from_viewers": false
    },
    "pycharm": {
     "name": "#%%\n",
     "is_executing": true
    }
   }
  },
  {
   "cell_type": "code",
   "source": [
    "# Завдання 2\n",
    "num_list = []\n",
    "a = range(10)\n",
    "for i in a:\n",
    "    num_list.append(int(input(f\"Введите число {i+1}\")))\n",
    "print(\"Сума чисел дорівнює\",sum(num_list))"
   ],
   "execution_count": null,
   "outputs": [],
   "metadata": {
    "datalore": {
     "type": "CODE",
     "hide_input_from_viewers": false,
     "hide_output_from_viewers": false
    },
    "pycharm": {
     "name": "#%%\n",
     "is_executing": true
    }
   }
  },
  {
   "cell_type": "code",
   "source": [
    "# Завдання 3\n",
    "import random\n",
    "a = range(int(input(\"Введіть кількість чисел\")))\n",
    "b = range(101)\n",
    "num_list = []\n",
    "for i in a:\n",
    "    num_list.append(random.choice(b))\n",
    "num_list_pairs = []\n",
    "\n",
    "for i in num_list:\n",
    "    if i % 2 == 0:\n",
    "        num_list_pairs.append(i)\n",
    "\n",
    "num_list_nopairs = []\n",
    "for i in range(len(num_list)):\n",
    "    if num_list[i] % 2 != 0:\n",
    "        num_list_nopairs.append(i)\n",
    "print(\"Рандомний список чисел від 0 до 100: \",num_list)\n",
    "print(\"Список парних чисел: \",num_list_pairs)\n",
    "print(\"Список індексів парних чисел: \",num_list_nopairs)\n"
   ],
   "execution_count": null,
   "outputs": [],
   "metadata": {
    "datalore": {
     "type": "CODE",
     "hide_input_from_viewers": false,
     "hide_output_from_viewers": false
    },
    "pycharm": {
     "name": "#%%\n",
     "is_executing": true
    }
   }
  },
  {
   "cell_type": "code",
   "source": [
    "# Завдання 4\n",
    "c = range(int(input(\"Введіть к-кість чисел Фібоначі, котрі хочете побачити\")))\n",
    "a, b = 0, 1\n",
    "for i in c:\n",
    "    print(a)\n",
    "    d = b\n",
    "    b += a \n",
    "    a = d\n",
    "    \n"
   ],
   "execution_count": null,
   "outputs": [],
   "metadata": {
    "datalore": {
     "type": "CODE",
     "hide_input_from_viewers": false,
     "hide_output_from_viewers": false
    },
    "pycharm": {
     "name": "#%%\n",
     "is_executing": true
    }
   }
  },
  {
   "cell_type": "code",
   "source": [
    "# Завдання 5\n",
    "a = int(input(\"Введіть будь-яке натуральне число\"))\n",
    "b = range(1,a+1)\n",
    "c = 1\n",
    "for i in b:\n",
    "    c *= i\n",
    "print(f\"Факторіал числа {a} дорівнює \",c)"
   ],
   "execution_count": null,
   "outputs": [],
   "metadata": {
    "datalore": {
     "type": "CODE",
     "hide_input_from_viewers": false,
     "hide_output_from_viewers": false
    },
    "pycharm": {
     "name": "#%%\n",
     "is_executing": true
    }
   }
  },
  {
   "cell_type": "code",
   "source": [
    "# Завдання 6\n",
    "num_list = [185,185,176,171,163,186,186,170,192,174]\n",
    "a = range(10)\n",
    "avg_num = sum(num_list)/len(num_list)\n",
    "med_num = (num_list[4] + num_list[5]) / 2\n",
    "b = 0\n",
    "for i in num_list:\n",
    "    a = (i - avg_num)**2\n",
    "    b += a\n",
    "avg_sqr = (b/avg_num)**0.5\n",
    "print(\"Середнє значення дорівнює \",avg_num)\n",
    "print(\"Медіана дорівнює \",med_num)\n",
    "print(\"Стандартне відхилення дорівнює \",avg_sqr)"
   ],
   "execution_count": null,
   "outputs": [],
   "metadata": {
    "datalore": {
     "type": "CODE",
     "hide_input_from_viewers": false,
     "hide_output_from_viewers": false
    },
    "pycharm": {
     "name": "#%%\n",
     "is_executing": true
    }
   }
  },
  {
   "cell_type": "code",
   "source": [
    "# Завдання 7\n",
    "num_list = []\n",
    "for i in range(10):\n",
    "    num_list.append(int(input(\"Введіть число\")))\n",
    "simple_num = []\n",
    "for i in num_list:\n",
    "    a = range(2,i)\n",
    "    b = 0\n",
    "    if i == 1:\n",
    "        simple_num.append(i)\n",
    "    else:\n",
    "        for num in a:\n",
    "            if i % num != 0:\n",
    "                b += 1\n",
    "            if b == len(a):\n",
    "                simple_num.append(i)\n",
    "        \n",
    "            \n",
    "\n",
    "print(\"Ви ввели \",len(simple_num),\" простих чисел, ось вони: \", simple_num)"
   ],
   "execution_count": null,
   "outputs": [],
   "metadata": {
    "datalore": {
     "type": "CODE",
     "hide_input_from_viewers": false,
     "hide_output_from_viewers": false
    },
    "pycharm": {
     "name": "#%%\n",
     "is_executing": true
    }
   }
  }
 ],
 "metadata": {
  "datalore": {
   "version": 1,
   "computation_mode": "JUPYTER",
   "package_manager": "pip",
   "base_environment": "default",
   "packages": []
  }
 },
 "nbformat": 4,
 "nbformat_minor": 4
}