{
 "cells": [
  {
   "attachments": {},
   "cell_type": "markdown",
   "metadata": {
    "pycharm": {
     "name": "#%% md\n"
    }
   },
   "source": [
    "___\n",
    "\n",
    "<a href='https://mainacademy.ua/'> <img src='https://mainacademy.ua/wp-content/uploads/2019/03/logo-main.png' alt = 'Хмм, щось з інтернетом'/></a>\n",
    "___\n",
    "\n",
    "# Module 4: Work with data professionally!"
   ]
  },
  {
   "cell_type": "markdown",
   "metadata": {
    "pycharm": {
     "name": "#%% md\n"
    }
   },
   "source": [
    "## Lab work 4\n",
    "\n"
   ]
  },
  {
   "cell_type": "markdown",
   "metadata": {
    "pycharm": {
     "name": "#%% md\n"
    }
   },
   "source": [
    "#### Мета: \n",
    "\n",
    "* навчитися обробляти дані\n",
    "* \"парсити\" сайти"
   ]
  },
  {
   "cell_type": "markdown",
   "metadata": {
    "pycharm": {
     "name": "#%% md\n"
    }
   },
   "source": [
    "### Завдання 1:"
   ]
  },
  {
   "cell_type": "markdown",
   "metadata": {
    "pycharm": {
     "name": "#%% md\n"
    }
   },
   "source": [
    "#### Ознайомитися із API Національного банку \n",
    "https://old.bank.gov.ua/control/uk/publish/article?art_id=38441973&cat_id=38459171#exchange\n",
    "\n"
   ]
  },
  {
   "cell_type": "markdown",
   "metadata": {
    "pycharm": {
     "name": "#%% md\n"
    }
   },
   "source": [
    "1. Підключитися до API.\n"
   ]
  },
  {
   "cell_type": "code",
   "execution_count": 1,
   "metadata": {
    "pycharm": {
     "name": "#%%\n"
    }
   },
   "outputs": [],
   "source": [
    "import requests\n",
    "import json\n",
    "import pickle\n",
    "from bs4 import BeautifulSoup\n",
    "from datetime import timedelta, datetime\n",
    "\n",
    "enddate = datetime.now()\n",
    "startdate = enddate - timedelta(days=365)\n",
    "enddate_str = enddate.strftime(\"%Y%m%d\")\n",
    "startdate_str = startdate.strftime(\"%Y%m%d\")\n",
    "min_gov_link = requests.get(f\"https://bank.gov.ua/NBU_Exchange/exchange_site?start={startdate_str}&end={enddate_str}&valcode=usd&sort=exchangedate&order=desc&json\")\n"
   ]
  },
  {
   "cell_type": "markdown",
   "metadata": {
    "pycharm": {
     "name": "#%% md\n"
    }
   },
   "source": [
    "2. Отримати курс долара за останній рік."
   ]
  },
  {
   "cell_type": "code",
   "execution_count": 2,
   "metadata": {
    "pycharm": {
     "name": "#%%\n"
    }
   },
   "outputs": [],
   "source": [
    "min_gov_dict = json.loads(min_gov_link.text)"
   ]
  },
  {
   "cell_type": "markdown",
   "metadata": {
    "pycharm": {
     "name": "#%% md\n"
    }
   },
   "source": [
    "3. Вивести середнє значення та відхилення курсу за кожний місяць."
   ]
  },
  {
   "cell_type": "code",
   "execution_count": 3,
   "metadata": {
    "pycharm": {
     "name": "#%%\n"
    }
   },
   "outputs": [],
   "source": [
    "#Отримуємо середнє значення для кожного місяця\n",
    "my_dict = {}\n",
    "for st in min_gov_dict:\n",
    "    if st['exchangedate'][3:] in my_dict:\n",
    "        a += 1\n",
    "        my_dict[st['exchangedate'][3:]] = {'average' : round((my_dict[st['exchangedate'][3:]]['average'] * (a - 1) + float(st['rate'])) / a, 2)}\n",
    "    else:\n",
    "        a = 1\n",
    "        my_dict[st['exchangedate'][3:]] = {'average': round(float(st['rate']), 2)}\n",
    "\n",
    "#Отримуємо відхилення середнього значення для кожного місяця\n",
    "a = my_dict[min_gov_dict[0]['exchangedate'][3:]]['average']\n",
    "b = []\n",
    "for key, value in my_dict.items():\n",
    "    #value['deviation'] = round(a - value['average'], 2)\n",
    "    b.append(round(a - value['average'], 2))\n",
    "    a = value['average']\n",
    "a = 0\n",
    "for key, value in my_dict.items():\n",
    "    if a + 1 < len(b):\n",
    "        a += 1\n",
    "        value['deviation'] = b[a]\n",
    "    else:\n",
    "        value['deviation'] = 0.0"
   ]
  },
  {
   "cell_type": "markdown",
   "metadata": {
    "pycharm": {
     "name": "#%% md\n"
    }
   },
   "source": [
    "4. Дану інформацію записати у файл за допомогою pickle."
   ]
  },
  {
   "cell_type": "code",
   "execution_count": 4,
   "metadata": {
    "pycharm": {
     "name": "#%%\n"
    }
   },
   "outputs": [],
   "source": [
    "with open('DS_Practice4_task1.pickle', 'wb') as f:\n",
    "    pickle.dump(my_dict, f)"
   ]
  },
  {
   "cell_type": "markdown",
   "metadata": {
    "pycharm": {
     "name": "#%% md\n"
    }
   },
   "source": [
    "### Завдання 2:"
   ]
  },
  {
   "cell_type": "markdown",
   "metadata": {
    "pycharm": {
     "name": "#%% md\n"
    }
   },
   "source": [
    "Потрібно проаналізувати всі товари на сайті: \n",
    "https://smallpacking.agrosem.ua/shop/"
   ]
  },
  {
   "cell_type": "markdown",
   "metadata": {
    "pycharm": {
     "name": "#%% md\n"
    }
   },
   "source": [
    "Створіть базу даних, що містить таблицю із такими стовбцями: \n",
    "    - артикул товару\n",
    "    - найменування\n",
    "    - ціна \n",
    "    - вага"
   ]
  },
  {
   "cell_type": "code",
   "execution_count": 177,
   "metadata": {
    "pycharm": {
     "name": "#%%\n"
    }
   },
   "outputs": [
    {
     "name": "stdout",
     "output_type": "stream",
     "text": [
      "{'SKU: 42522': {'Name': '8Х288КЛДМ (високоолеїновий)', 'Price': 'NULL', 'Weight': 'NULL'}, 'SKU: 66336': {'Name': '8Х477КЛ (високоолеїновий)', 'Price': 'NULL', 'Weight': 'NULL'}, 'SKU: 91797': {'Name': 'AMELIOR (ФАО 240)', 'Price': 'NULL', 'Weight': 'NULL'}, 'SKU: 28164': {'Name': 'Ferticare Hydro 6-14-30 + micro', 'Price': 2500.0, 'Weight': 25.0}, 'SKU: 66353': {'Name': 'Ferticare Kombi 14-11-25 + micro', 'Price': 2250.0, 'Weight': 25.0}, 'SKU: 39566': {'Name': 'MagPlon K (нітрат калію)', 'Price': 930.0, 'Weight': 25.0}, 'SKU: 94424': {'Name': 'MAS 10.A (ФАО 180)', 'Price': 'NULL', 'Weight': 'NULL'}, 'SKU: 94116': {'Name': 'MAS 15.T (ФАО 220)', 'Price': 'NULL', 'Weight': 'NULL'}, 'SKU: 63652': {'Name': 'MAS 18.L (ФАО 210)', 'Price': 'NULL', 'Weight': 'NULL'}, 'SKU: 79663': {'Name': 'MAS 20.A (ФАО 230) – Ексклюзивний гібрид ТОВ «АГРОСЕМ»', 'Price': 'NULL', 'Weight': 'NULL'}, 'SKU: 88745': {'Name': 'MAS 20.F (ФАО 230)', 'Price': 'NULL', 'Weight': 'NULL'}, 'SKU: 65361': {'Name': 'MAS 23.K (ФАО 220)', 'Price': 'NULL', 'Weight': 'NULL'}, 'SKU: 23893': {'Name': 'MAS 24.С (ФАО 260)', 'Price': 'NULL', 'Weight': 'NULL'}, 'SKU: 49148': {'Name': 'MAS 25.F (ФАО 250)', 'Price': 'NULL', 'Weight': 'NULL'}, 'SKU: 48722': {'Name': 'MAS 28.A (ФАО 270)', 'Price': 'NULL', 'Weight': 'NULL'}, 'SKU: 71611': {'Name': 'MAS 30.M (ФАО 310)', 'Price': 'NULL', 'Weight': 'NULL'}, 'SKU: 26429': {'Name': 'MAS 30.К (ФАО 280)', 'Price': 'NULL', 'Weight': 'NULL'}, 'SKU: 78789': {'Name': 'MAS 33.А (ФАО 320)', 'Price': 'NULL', 'Weight': 'NULL'}, 'SKU: 88291': {'Name': 'MAS 35.К (ФАО 360)', 'Price': 'NULL', 'Weight': 'NULL'}, 'SKU: 87587': {'Name': 'MAS 36.А (ФАО 300)', 'Price': 'NULL', 'Weight': 'NULL'}, 'SKU: 98914': {'Name': 'MAS 37.V (ФАО 340)', 'Price': 'NULL', 'Weight': 'NULL'}, 'SKU: 38175': {'Name': 'MAS 39.Т (ФАО 350)', 'Price': 'NULL', 'Weight': 'NULL'}, 'SKU: 89828': {'Name': 'MAS 40.F (ФАО 390)', 'Price': 'NULL', 'Weight': 'NULL'}, 'SKU: 76368': {'Name': 'MAS 44.А (ФАО 380)', 'Price': 'NULL', 'Weight': 'NULL'}, 'SKU: 77181': {'Name': 'MAS 45.M (ФАО 440)', 'Price': 'NULL', 'Weight': 'NULL'}, 'SKU: 74396': {'Name': 'MAS 47.Р (ФАО 400)', 'Price': 'NULL', 'Weight': 'NULL'}, 'SKU: 86827': {'Name': 'MAS 80.IR', 'Price': 'NULL', 'Weight': 'NULL'}, 'SKU: 76355': {'Name': 'MAS 81.C', 'Price': 'NULL', 'Weight': 'NULL'}, 'SKU: 22865': {'Name': 'MAS 81.K', 'Price': 'NULL', 'Weight': 'NULL'}, 'SKU: 59822': {'Name': 'MAS 82.A', 'Price': 'NULL', 'Weight': 'NULL'}, 'SKU: 58278': {'Name': 'MAS 83.OL', 'Price': 'NULL', 'Weight': 'NULL'}, 'SKU: 12575': {'Name': 'MAS 83.R', 'Price': 'NULL', 'Weight': 'NULL'}, 'SKU: 94287': {'Name': 'MAS 85.SU', 'Price': 'NULL', 'Weight': 'NULL'}, 'SKU: 11182': {'Name': 'MAS 86.CP', 'Price': 'NULL', 'Weight': 'NULL'}, 'SKU: 35624': {'Name': 'MAS 86.OL', 'Price': 'NULL', 'Weight': 'NULL'}, 'SKU: 52655': {'Name': 'MAS 87.A', 'Price': 'NULL', 'Weight': 'NULL'}, 'SKU: 36295': {'Name': 'MAS 87.IR', 'Price': 'NULL', 'Weight': 'NULL'}, 'SKU: 46994': {'Name': 'MAS 89.IR', 'Price': 'NULL', 'Weight': 'NULL'}, 'SKU: 54199': {'Name': 'MAS 89.M', 'Price': 'NULL', 'Weight': 'NULL'}, 'SKU: 34872': {'Name': 'MAS 90.F', 'Price': 'NULL', 'Weight': 'NULL'}, 'SKU: 82368': {'Name': 'MAS 91.G', 'Price': 'NULL', 'Weight': 'NULL'}, 'SKU: 33229': {'Name': 'MAS 92.CP', 'Price': 'NULL', 'Weight': 'NULL'}, 'SKU: 38959': {'Name': 'MAS 93.CP', 'Price': 'NULL', 'Weight': 'NULL'}, 'SKU: 85189': {'Name': 'MAS 96.P', 'Price': 'NULL', 'Weight': 'NULL'}, 'SKU: 99418': {'Name': 'MAS 97.А', 'Price': 'NULL', 'Weight': 'NULL'}, 'SKU: 69156': {'Name': 'Pulan 34.4', 'Price': 15500.0, 'Weight': 600.0}, 'SKU: 74266': {'Name': 'Saletrosan®26', 'Price': 12000.0, 'Weight': 500.0}, 'SKU: 26252': {'Name': 'Saletrosan®30', 'Price': 5930.0, 'Weight': 500.0}, 'SKU: 67325': {'Name': 'Saletrzak 27 macro', 'Price': 3610.0, 'Weight': 500.0}, 'SKU: 76913': {'Name': 'Siarczan AS 21 Macro', 'Price': 10600.0, 'Weight': 500.0}, 'SKU: 67641': {'Name': 'VASILI (ФАО 250)', 'Price': 'NULL', 'Weight': 'NULL'}, 'SKU: 51667': {'Name': 'Yara Liva Кальциніт', 'Price': 900.0, 'Weight': 25.0}, 'SKU: 95975': {'Name': 'Yara Liva Нітрабор', 'Price': 920.0, 'Weight': 25.0}, 'SKU: 93119': {'Name': 'YaraBela Сульфан', 'Price': 20200.0, 'Weight': 600.0}, 'SKU: 35951': {'Name': 'YaraIrix', 'Price': 18000.0, 'Weight': 1.0}, 'SKU: 21521': {'Name': 'YaraMila Complex 12-11-18', 'Price': 1400.0, 'Weight': 25.0}, 'SKU: 31357': {'Name': 'YaraMila Cropcare 11-11-21', 'Price': 1400.0, 'Weight': 25.0}, 'SKU: 47993': {'Name': 'YaraMila NP 20-20 +9,0SO3', 'Price': 20300.0, 'Weight': 600.0}, 'SKU: 89147': {'Name': 'YaraMila NPK 12-24-12', 'Price': 22900.0, 'Weight': 600.0}, 'SKU: 84721': {'Name': 'YaraMila NPK 16-16-16', 'Price': 20200.0, 'Weight': 600.0}, 'SKU: 63243': {'Name': 'YaraMila NPK 16-27-7', 'Price': 22300.0, 'Weight': 600.0}, 'SKU: 24963': {'Name': 'YaraMila NPK 18-11-13', 'Price': 13000.0, 'Weight': 600.0}, 'SKU: 24344': {'Name': 'YaraMila NPK 7-20-28', 'Price': 22200.0, 'Weight': 600.0}, 'SKU: 64776': {'Name': 'YaraMila NPK 8-24-24', 'Price': 20500.0, 'Weight': 600.0}, 'SKU: 66872': {'Name': 'YaraMila NPK 9-12-25 + 2MgO + 6,5SO3 + micro', 'Price': 17100.0, 'Weight': 600.0}, 'SKU: 19571': {'Name': 'YaraTera SOP (сульфат калію)', 'Price': 1800.0, 'Weight': 25.0}, 'SKU: 16332': {'Name': 'YaraVita Rexolin ABC (комплекс мікроелементів)', 'Price': 2580.0, 'Weight': 5.0}, 'SKU: 77348': {'Name': 'YaraVita Rexolin D12 (хелат заліза)', 'Price': 2410.0, 'Weight': 5.0}, 'SKU: 76429': {'Name': 'YaraVita Бортрак', 'Price': 1900.0, 'Weight': 10.0}, 'SKU: 13111': {'Name': 'YaraVita Брасітрел Про', 'Price': 2520.0, 'Weight': 10.0}, 'SKU: 62796': {'Name': 'YaraVita Грамітрел', 'Price': 2780.0, 'Weight': 10.0}, 'SKU: 79615': {'Name': 'YaraVita КомбіФос', 'Price': 2100.0, 'Weight': 10.0}, 'SKU: 47133': {'Name': 'YaraVita Манкоцин', 'Price': 1820.0, 'Weight': 5.0}, 'SKU: 37314': {'Name': 'YaraVita Мантрак Про', 'Price': 1910.0, 'Weight': 5.0}, 'SKU: 22322': {'Name': 'YaraVita Меїз Буст', 'Price': 2900.0, 'Weight': 10.0}, 'SKU: 42617': {'Name': 'YaraVita Молітрак', 'Price': 7500.0, 'Weight': 5.0}, 'SKU: 94157': {'Name': 'YaraVita Тепросин NP+Zn', 'Price': 3450.0, 'Weight': 5.0}, 'SKU: 78528': {'Name': 'YaraVita Тіотрак', 'Price': 1440.0, 'Weight': 10.0}, 'SKU: 97554': {'Name': 'YaraVita Фосамко Біо', 'Price': 1740.0, 'Weight': 10.0}, 'SKU: 93579': {'Name': 'YaraVita Цинтрак', 'Price': 2220.0, 'Weight': 5.0}, 'SKU: 15119': {'Name': 'Альваро КВС, насіння озимого ріпаку, 2019 р. врожаю', 'Price': 5000.0, 'Weight': 'NULL'}, 'SKU: 78664': {'Name': 'Альваро КВС, насіння озимого ріпаку, 2020 р. врожаю', 'Price': 5700.0, 'Weight': 'NULL'}, 'SKU: 32246': {'Name': 'АМАРОС (ФАО 230)', 'Price': 'NULL', 'Weight': 'NULL'}, 'SKU: 21173': {'Name': 'БОГАТИР (ФАО 290)', 'Price': 'NULL', 'Weight': 'NULL'}, 'SKU: 92995': {'Name': 'ГАРМОНІУМ (ФАО 380)', 'Price': 'NULL', 'Weight': 'NULL'}, 'SKU: 92478': {'Name': 'Гибрікок KWS, 2019 р. врожаю', 'Price': 4500.0, 'Weight': 'NULL'}, 'SKU: 45875': {'Name': 'Гибрікок KWS, 2020 р. врожаю', 'Price': 5500.0, 'Weight': 'NULL'}, 'SKU: 13478': {'Name': 'ДА СОНКА (ФАО 350)', 'Price': 'NULL', 'Weight': 'NULL'}, 'SKU: 10509521': {'Name': 'Добриво для азалій та рододендронів', 'Price': 129.0, 'Weight': 180.0}, 'SKU: 10509526': {'Name': 'Добриво для винограду', 'Price': 129.0, 'Weight': 180.0}, 'SKU: 10509519': {'Name': 'Добриво для декоративно-листяних кімнатних рослин', 'Price': 129.0, 'Weight': 180.0}, 'SKU: 10509524': {'Name': 'Добриво для квітучих кімнатних рослин', 'Price': 129.0, 'Weight': 180.0}, 'SKU: 10509529': {'Name': 'Добриво для лохини та чорниці', 'Price': 129.0, 'Weight': 180.0}, 'SKU: 10509520': {'Name': 'Добриво для магнолій, гортензій', 'Price': 129.0, 'Weight': 180.0}, 'SKU: 10509527': {'Name': 'Добриво для овочевих культур та зелені', 'Price': 129.0, 'Weight': 180.0}, 'SKU: 10509523': {'Name': 'Добриво для орхідей', 'Price': 129.0, 'Weight': 180.0}, 'SKU: 10509522': {'Name': 'Добриво для петуній та сурфіній', 'Price': 129.0, 'Weight': 180.0}, 'SKU: 10509517': {'Name': 'Добриво для плодово-ягідних культур', 'Price': 129.0, 'Weight': 180.0}, 'SKU: 10509516': {'Name': 'Добриво для рослин на основі витяжки морських водоростей та макро – мікроелементів YaraVITA', 'Price': 249.0, 'Weight': 0.5}, 'SKU: 10509531': {'Name': 'Добриво для рослин на основі витяжки морських водоростей та макро – мікроелементів YaraVITA 1 л', 'Price': 499.0, 'Weight': 'NULL'}, 'SKU: 10509530': {'Name': 'Добриво для саду та городу', 'Price': 129.0, 'Weight': 180.0}, 'SKU: 10509518': {'Name': 'Добриво для самшиту та вічнозелених чагарників', 'Price': 129.0, 'Weight': 180.0}, 'SKU: 10509528': {'Name': 'Добриво для троянд та квітучих рослин', 'Price': 129.0, 'Weight': 180.0}, 'SKU: 10509525': {'Name': 'Добриво для хвойних рослин', 'Price': 129.0, 'Weight': 180.0}, 'SKU: 97543': {'Name': 'ДС0336 (ФАО 310)', 'Price': 'NULL', 'Weight': 'NULL'}, 'SKU: 22661': {'Name': 'ДС0493Б (ФАО 250)', 'Price': 'NULL', 'Weight': 'NULL'}, 'SKU: 25441': {'Name': 'ДС0918Б (ФАО 270)', 'Price': 'NULL', 'Weight': 'NULL'}, 'SKU: 79977': {'Name': 'ДС1202Б (ФАО 260)', 'Price': 'NULL', 'Weight': 'NULL'}, 'SKU: 36989': {'Name': 'ДС1304С (ФАО 350)', 'Price': 'NULL', 'Weight': 'NULL'}, 'SKU: 57866': {'Name': 'ДСЛ402', 'Price': 'NULL', 'Weight': 'NULL'}, 'SKU: 31679': {'Name': 'ДСХ403 (високоолеїновий)', 'Price': 'NULL', 'Weight': 'NULL'}, 'SKU: 95642': {'Name': 'ЕС АНДРОМЕДА', 'Price': 'NULL', 'Weight': 'NULL'}, 'SKU: 56446': {'Name': 'ЕС АРГЕНТІК', 'Price': 'NULL', 'Weight': 'NULL'}, 'SKU: 45418': {'Name': 'ЕС АРКАДІЯ СУ', 'Price': 'NULL', 'Weight': 'NULL'}, 'SKU: 65651': {'Name': 'ЕС АРОМАТІК СУ', 'Price': 'NULL', 'Weight': 'NULL'}, 'SKU: 64934': {'Name': 'ЕС АСТЕРОІД (ФАО 290)', 'Price': 'NULL', 'Weight': 'NULL'}, 'SKU: 37339': {'Name': 'ЕС БЕЛЛА', 'Price': 'NULL', 'Weight': 'NULL'}, 'SKU: 43984': {'Name': 'ЕС ВЕРОНІКА', 'Price': 'NULL', 'Weight': 'NULL'}, 'SKU: 13959': {'Name': 'ЕС ГЕНЕЗІС', 'Price': 'NULL', 'Weight': 'NULL'}, 'SKU: 64464': {'Name': 'ЕС ГЕНЕРАЛІС СЛ', 'Price': 'NULL', 'Weight': 'NULL'}, 'SKU: 23171': {'Name': 'ЕС ГРАФІК СЛ', 'Price': 'NULL', 'Weight': 'NULL'}, 'SKU: 82241': {'Name': 'ЕС ІЗІДА', 'Price': 'NULL', 'Weight': 'NULL'}, 'SKU: 89273': {'Name': 'ЕС ІНВЕНТІВ (ФАО 300)', 'Price': 'NULL', 'Weight': 'NULL'}, 'SKU: 61625': {'Name': 'ЕС КОНКОРД (ФАО 250)', 'Price': 'NULL', 'Weight': 'NULL'}, 'SKU: 52329': {'Name': 'ЕС КРЕАТИВ (ФАО 300)', 'Price': 'NULL', 'Weight': 'NULL'}, 'SKU: 29897': {'Name': 'ЕС КРОССМАН (ФАО 240)', 'Price': 'NULL', 'Weight': 'NULL'}, 'SKU: 18262': {'Name': 'ЕС МЕЙФЛАВЕР (ФАО 330)', 'Price': 'NULL', 'Weight': 'NULL'}, 'SKU: 74919': {'Name': 'ЕС МЕТОД (ФАО 380)', 'Price': 'NULL', 'Weight': 'NULL'}, 'SKU: 93843': {'Name': 'ЕС МІЛОРД (ФАО 380)', 'Price': 'NULL', 'Weight': 'NULL'}, 'SKU: 56874': {'Name': 'ЕС МОСКІТО (ФАО 350)', 'Price': 'NULL', 'Weight': 'NULL'}, 'SKU: 22374': {'Name': 'ЕС НІАГАРА', 'Price': 'NULL', 'Weight': 'NULL'}, 'SKU: 41839': {'Name': 'ЕС НОВАМІС СЛ', 'Price': 'NULL', 'Weight': 'NULL'}, 'SKU: 58715': {'Name': 'ЕС РОЗАЛІЯ', 'Price': 'NULL', 'Weight': 'NULL'}, 'SKU: 51976': {'Name': 'ЕС РОМАНТИК', 'Price': 'NULL', 'Weight': 'NULL'}, 'SKU: 72952': {'Name': 'ЕС САВАНА', 'Price': 'NULL', 'Weight': 'NULL'}, 'SKU: 99252': {'Name': 'ЕС СЕНСОР (ФАО 370)', 'Price': 'NULL', 'Weight': 'NULL'}, 'SKU: 83792': {'Name': 'ЕС ТЕРРАМІС ЕС', 'Price': 'NULL', 'Weight': 'NULL'}, 'SKU: 41618': {'Name': 'ЕС ФАРАДЕЙ (ФАО 350)', 'Price': 'NULL', 'Weight': 'NULL'}, 'SKU: 63976': {'Name': 'ЕС ХЕМІНГУЕЙ (ФАО 280)', 'Price': 'NULL', 'Weight': 'NULL'}, 'SKU: 86472': {'Name': 'ЕС ЯНІС', 'Price': 'NULL', 'Weight': 'NULL'}, 'SKU: 81892': {'Name': 'Етерно КВС, насіння озимого жита', 'Price': 2200.0, 'Weight': 'NULL'}, 'SKU: 91815': {'Name': 'Етерно КВС, насіння озимого жита', 'Price': 53000.0, 'Weight': 'NULL'}, 'SKU: 31292': {'Name': 'Етерно КВС, насіння озимого жита', 'Price': 50000.0, 'Weight': 'NULL'}, 'SKU: 42579': {'Name': 'Етерно КВС, насіння озимого жита, протруєне', 'Price': 56000.0, 'Weight': 'NULL'}, 'SKU: 68438': {'Name': 'Кrista MAG (нітрат магнію)', 'Price': 1110.0, 'Weight': 25.0}, 'SKU: 66368': {'Name': 'Кrista К (нітрат калію)', 'Price': 1570.0, 'Weight': 25.0}, 'SKU: 34254': {'Name': 'Кrista МАР (моноамоній фосфат)', 'Price': 3300.0, 'Weight': 25.0}, 'SKU: 34559': {'Name': 'Кrista МКР (монокалій фосфат)', 'Price': 3900.0, 'Weight': 25.0}, 'SKU: 97462': {'Name': 'КАВАЛЕР (ФАО 250), UNIQUEDENT', 'Price': 'NULL', 'Weight': 'NULL'}, 'SKU: 36687': {'Name': 'КАНЬЙОНС (ФАО 230), UNIQUEDENT', 'Price': 'NULL', 'Weight': 'NULL'}, 'SKU: 33481': {'Name': 'КАРІФОЛС (ФАО 380)', 'Price': 'NULL', 'Weight': 'NULL'}, 'SKU: 23512': {'Name': 'КАРПАТІС (ФАО 340)', 'Price': 'NULL', 'Weight': 'NULL'}, 'SKU: 73738': {'Name': 'КВС 2323 (ФАО 260), UNIQUEDENT', 'Price': 'NULL', 'Weight': 'NULL'}, 'SKU: 72269': {'Name': 'КВС 2370 (ФАО 280), UNIQUEDENT', 'Price': 'NULL', 'Weight': 'NULL'}, 'SKU: 86812': {'Name': 'КВС 381 (ФАО 350)', 'Price': 'NULL', 'Weight': 'NULL'}, 'SKU: 73646': {'Name': 'КВС 4484 (ФАО 370)', 'Price': 'NULL', 'Weight': 'NULL'}, 'SKU: 52126': {'Name': 'КВС АСЕР КЛ', 'Price': 'NULL', 'Weight': 'NULL'}, 'SKU: 56714': {'Name': 'КВС Боно, насіння озимого жита', 'Price': 49000.0, 'Weight': 'NULL'}, 'SKU: 56312': {'Name': 'КВС ДРАГОН', 'Price': 'NULL', 'Weight': 'NULL'}, 'SKU: 35619': {'Name': 'КВС КАШЕМІР (ФАО 380)', 'Price': 'NULL', 'Weight': 'NULL'}, 'SKU: 13315': {'Name': 'КВС КУМПАН (ФАО 290), UNIQUEDENT', 'Price': 'NULL', 'Weight': 'NULL'}, 'SKU: 63683': {'Name': 'КВС Магніфіко, насіння озимого жита на силос', 'Price': 1900.0, 'Weight': 'NULL'}, 'SKU: 61723': {'Name': 'КВС Магніфіко, насіння озимого жита на силос', 'Price': 46000.0, 'Weight': 'NULL'}, 'SKU: 12789': {'Name': 'КВС Пропауер, насіння озимого жита', 'Price': 55000.0, 'Weight': 'NULL'}, 'SKU: 62997': {'Name': 'КВС Тайо, насіння озимого жита', 'Price': 55000.0, 'Weight': 'NULL'}, 'SKU: 27946': {'Name': 'КВС Феррі, озимий ріпак, 2020 р. врожаю', 'Price': 6000.0, 'Weight': 'NULL'}, 'SKU: 24669': {'Name': 'КЕЛТІКУС (ФАО 270), UNIQUEDENT', 'Price': 'NULL', 'Weight': 'NULL'}, 'SKU: 46895': {'Name': 'КЕРБЕРОС (ФАО 310)', 'Price': 'NULL', 'Weight': 'NULL'}, 'SKU: 31643': {'Name': 'КРАБАС (ФАО 300)', 'Price': 'NULL', 'Weight': 'NULL'}, 'SKU: 38994': {'Name': 'МАРК КВС, 2019 р. врожаю', 'Price': 5000.0, 'Weight': 'NULL'}, 'SKU: 99753': {'Name': 'МАРК КВС, 2020 р. врожаю', 'Price': 5700.0, 'Weight': 'NULL'}, 'SKU: 66675': {'Name': 'МТ МАТАДО (ФАО 380)', 'Price': 'NULL', 'Weight': 'NULL'}, 'SKU: 87931': {'Name': 'Озимий ріпак Фактор КВС, 2019 р. врожаю, ексклюзив «Агросем»', 'Price': 5200.0, 'Weight': 'NULL'}, 'SKU: 38134': {'Name': 'Озимий ріпак Фактор КВС, 2020 р. врожаю, ексклюзив «Агросем»', 'Price': 5800.0, 'Weight': 'NULL'}, 'SKU: 25875': {'Name': 'П63ЛЕ10', 'Price': 'NULL', 'Weight': 'NULL'}, 'SKU: 71288': {'Name': 'П63ЛЛ124', 'Price': 'NULL', 'Weight': 'NULL'}, 'SKU: 64383': {'Name': 'П64ГЕ133 (високоолеїновий)', 'Price': 'NULL', 'Weight': 'NULL'}, 'SKU: 51733': {'Name': 'П64ЛЕ99', 'Price': 'NULL', 'Weight': 'NULL'}, 'SKU: 28239': {'Name': 'П64ЛЦ108', 'Price': 'NULL', 'Weight': 'NULL'}, 'SKU: 99157': {'Name': 'П8025 (ФАО 230)', 'Price': 'NULL', 'Weight': 'NULL'}, 'SKU: 67726': {'Name': 'П8409 (ФАО 260)', 'Price': 'NULL', 'Weight': 'NULL'}, 'SKU: 92512': {'Name': 'П8723 (ФАО 280)', 'Price': 'NULL', 'Weight': 'NULL'}, 'SKU: 25371': {'Name': 'П9025 (ФАО 330)', 'Price': 'NULL', 'Weight': 'NULL'}, 'SKU: 52787': {'Name': 'П9486 (ФАО 340)', 'Price': 'NULL', 'Weight': 'NULL'}, 'SKU: 93768': {'Name': 'ПX113, озимий ріпак', 'Price': 5800.0, 'Weight': 'NULL'}, 'SKU: 32979': {'Name': 'ПX128, озимий ріпак', 'Price': 7000.0, 'Weight': 'NULL'}, 'SKU: 27795': {'Name': 'ПР44Д06, озимий ріпак', 'Price': 6400.0, 'Weight': 'NULL'}, 'SKU: 29272': {'Name': 'ПР46В21, озимий ріпак', 'Price': 5800.0, 'Weight': 'NULL'}, 'SKU: 67125': {'Name': 'ПТ200КЛ, озимий ріпак', 'Price': 7000.0, 'Weight': 'NULL'}, 'SKU: 41695': {'Name': 'ПТ234, озимий ріпак', 'Price': 5800.0, 'Weight': 'NULL'}, 'SKU: 84913': {'Name': 'ПТ248, озимий ріпак', 'Price': 6600.0, 'Weight': 'NULL'}, 'SKU: 94498': {'Name': 'ПТ264, озимий ріпак', 'Price': 7000.0, 'Weight': 'NULL'}, 'SKU: 45838': {'Name': 'ПТ269, озимий ріпак', 'Price': 6700.0, 'Weight': 'NULL'}, 'SKU: 66139': {'Name': 'ПТ271, озимий ріпак', 'Price': 7000.0, 'Weight': 'NULL'}, 'SKU: 87933': {'Name': 'ПТ275, озимий ріпак', 'Price': 7000.0, 'Weight': 'NULL'}, 'SKU: 14888': {'Name': 'ПТ279КЛ, озимий ріпак', 'Price': 7400.0, 'Weight': 'NULL'}, 'SKU: 87376': {'Name': 'ПХ125КЛ, озимий ріпак', 'Price': 7000.0, 'Weight': 'NULL'}, 'SKU: 14592': {'Name': 'ПХ131, озимий ріпак', 'Price': 7000.0, 'Weight': 'NULL'}, 'SKU: 65157': {'Name': 'Сульфат магнію (семиводневий)', 'Price': 600.0, 'Weight': 25.0}, 'SKU: 76265': {'Name': 'Сульфат магнію гранульований', 'Price': 16600.0, 'Weight': 1000.0}, 'SKU: 75575': {'Name': 'Сульфат магнію Яра Krista MgS', 'Price': 630.0, 'Weight': 25.0}, 'SKU: 61746': {'Name': 'СУРРЕАЛ (ФАО 370)', 'Price': 'NULL', 'Weight': 'NULL'}, 'SKU: 33632': {'Name': 'Умберто КВС, насіння озимого ріпаку, 2019 р. врожаю', 'Price': 5200.0, 'Weight': 'NULL'}, 'SKU: 88369': {'Name': 'Умберто КВС, насіння озимого ріпаку, 2020 р. врожаю', 'Price': 5800.0, 'Weight': 'NULL'}, 'SKU: 55781': {'Name': 'Яра (Folicare) NPK 10-5-40+micro', 'Price': 2450.0, 'Weight': 25.0}, 'SKU: 65565': {'Name': 'Яра (Folicare) NPK 12-0-38', 'Price': 2450.0, 'Weight': 25.0}, 'SKU: 88381': {'Name': 'Яра (Folicare) NPK 12-46-8+micro', 'Price': 2700.0, 'Weight': 25.0}, 'SKU: 91621': {'Name': 'Яра (Folicare) NPK 18-18-18+micro', 'Price': 2450.0, 'Weight': 25.0}, 'SKU: 68487': {'Name': 'Яра (Folicare) NPK 22-5-22+micro', 'Price': 2450.0, 'Weight': 25.0}, 'SKU: 35486': {'Name': 'Яра Ferticare Tomato', 'Price': 2370.0, 'Weight': 25.0}, 'SKU: 71533': {'Name': 'Яра Ferticare Овочі', 'Price': 2470.0, 'Weight': 25.0}, 'SKU: 439226': {'Name': 'Добриво для фруктових та горіхових дерев', 'Price': 525.0, 'Weight': 3.0}, 'SKU: 1297': {'Name': 'Добриво для ягідних чагарників', 'Price': 525.0, 'Weight': 3.0}, 'SKU: 91897': {'Name': 'Добриво для ягідних чагарників', 'Price': 213.0, 'Weight': 1.0}, 'SKU: 61169': {'Name': 'Добриво універсальне грунтове', 'Price': 213.0, 'Weight': 1.0}, 'SKU: 6651824': {'Name': 'Добриво універсальне грунтове', 'Price': 525.0, 'Weight': 3.0}, 'SKU: 5227876': {'Name': 'Добриво універсальне грунтове', 'Price': 1415.0, 'Weight': 10.0}, 'SKU: 32237': {'Name': 'Добриво для декоративних листових', 'Price': 525.0, 'Weight': 3.0}, 'SKU: 4165215': {'Name': 'Добриво для вічнозелених дерев та кущів', 'Price': 1415.0, 'Weight': 10.0}, 'SKU: 682645': {'Name': 'Добриво універсальне грунтове', 'Price': 525.0, 'Weight': 3.0}, 'SKU: 7435': {'Name': 'Добриво універсальне грунтове', 'Price': 213.0, 'Weight': 1.0}, 'SKU: 9354141': {'Name': 'Добриво для газону', 'Price': 525.0, 'Weight': 3.0}, 'SKU: 1955': {'Name': 'Добриво для вічнозелених дерев та кущів', 'Price': 213.0, 'Weight': 1.0}, 'SKU: 455799': {'Name': 'Добриво для газону', 'Price': 213.0, 'Weight': 1.0}, 'SKU: 991645': {'Name': 'Добриво для декоративних листових', 'Price': 213.0, 'Weight': 1.0}, 'SKU: 17477': {'Name': 'Добриво універсальне грунтове', 'Price': 1415.0, 'Weight': 10.0}, 'SKU: 7143174': {'Name': 'Добриво для газону', 'Price': 525.0, 'Weight': 3.0}, 'SKU: 3593': {'Name': 'Добриво для полуниці', 'Price': 213.0, 'Weight': 1.0}, 'SKU: 4738184': {'Name': 'Добриво для вічнозелених дерев та кущів', 'Price': 525.0, 'Weight': 3.0}, 'SKU: 3177412': {'Name': 'Добриво для фруктових та горіхових дерев', 'Price': 213.0, 'Weight': 1.0}, 'SKU: 16762': {'Name': 'Добриво для газону', 'Price': 1415.0, 'Weight': 10.0}, 'SKU: 78747': {'Name': 'Добриво для декоративних листових', 'Price': 525.0, 'Weight': 3.0}, 'SKU: 5218': {'Name': 'Добриво для вічнозелених дерев та кущів', 'Price': 1415.0, 'Weight': 10.0}, 'SKU: 33486': {'Name': 'Добриво для декоративних листових', 'Price': 213.0, 'Weight': 1.0}, 'SKU: 198742': {'Name': 'Добриво для овочів', 'Price': 525.0, 'Weight': 3.0}, 'SKU: 797756': {'Name': 'Добриво для винограду', 'Price': 213.0, 'Weight': 1.0}, 'SKU: 726319': {'Name': 'Добриво для вічнозелених дерев та кущів', 'Price': 525.0, 'Weight': 3.0}, 'SKU: 789868': {'Name': 'Добриво для газону', 'Price': 213.0, 'Weight': 1.0}, 'SKU: 88255': {'Name': 'Добриво для овочів', 'Price': 213.0, 'Weight': 1.0}, 'SKU: 68183': {'Name': 'Добриво для розсади', 'Price': 213.0, 'Weight': 1.0}, 'SKU: 5656841': {'Name': 'Добриво для тепличних овочів', 'Price': 525.0, 'Weight': 3.0}, 'SKU: 2217672': {'Name': 'Добриво для троянд', 'Price': 213.0, 'Weight': 1.0}, 'SKU: 8362626': {'Name': 'Добриво для вічнозелених дерев та кущів', 'Price': 213.0, 'Weight': 1.0}, 'SKU: 375738': {'Name': 'Добриво для газону', 'Price': 1415.0, 'Weight': 10.0}, 'SKU: 51561': {'Name': 'Добриво для тепличних овочів', 'Price': 213.0, 'Weight': 1.0}}\n"
     ]
    }
   ],
   "source": [
    "import requests\n",
    "from bs4 import BeautifulSoup\n",
    "import sqlite3\n",
    "# Підключаємося до сайту\n",
    "page = requests.get('https://smallpacking.agrosem.ua/shop/')\n",
    "soup = BeautifulSoup(page.text, 'html.parser')\n",
    "prod_div = soup.find('div', 'product-category-wrapper').find_all('div', 'product-from-category-container')\n",
    "page_list = range(1, int((soup.find('ul', 'page-numbers').find_all('li')[-2]).text)+1) # Отримуємо к-кість сторінок\n",
    "my_base = {}\n",
    "# Проходимо по кожній сторінці\n",
    "for j in page_list:\n",
    "    page = requests.get(f'https://smallpacking.agrosem.ua/shop/page/{j}/')\n",
    "    soup = BeautifulSoup(page.text, 'html.parser')\n",
    "    prod_div = soup.find('div', 'product-category-wrapper').find_all('div', 'product-from-category-container')\n",
    "    # Проходимо по кожній карточці\n",
    "    for obj in prod_div:\n",
    "        prod_link = requests.get(obj.find('a').get('href'))\n",
    "        prod_link_soup = BeautifulSoup(prod_link.text, \"html.parser\")\n",
    "        art = prod_link_soup.find('span', itemprop=\"productID\").text\n",
    "        # Перевіряємо наявність параметру \"Вага\"\n",
    "        k = 'woocommerce-product-attributes-item woocommerce-product-attributes-item--attribute_pa_vaga'\n",
    "        if k not in prod_link_soup.prettify():\n",
    "            k = \"\"\n",
    "        else:\n",
    "            k = prod_link_soup.find('tr', 'woocommerce-product-attributes-item woocommerce-product-attributes-item--attribute_pa_vaga').find('td', 'woocommerce-product-attributes-item__value').text\n",
    "        prc = str(prod_link_soup.find('span', 'regular-price').text[:-3].replace(' ', '')).replace(',', '.')\n",
    "        wght = str(k[:-3].replace(' ', '')).replace(',', '.')\n",
    "        if len(prc) > 0:\n",
    "            prc = float(prc)\n",
    "        else:\n",
    "            prc = \"NULL\"\n",
    "        if len(wght) > 0:\n",
    "            wght = float(wght)\n",
    "        else:\n",
    "            wght = \"NULL\"\n",
    "        my_base[art] = {\n",
    "            'Name' : prod_link_soup.find('div', 'atributes-description').h2.text,\n",
    "            'Price' : prc,\n",
    "            'Weight' : wght\n",
    "        }\n",
    "# Cтворюємо базу даних\n",
    "conn = sqlite3.connect('my_db.db')\n",
    "cursor = conn.cursor()\n",
    "cursor.execute(\"DROP TABLE IF EXISTS PRODUCTS\")\n",
    "sql ='''CREATE TABLE PRODUCTS(\n",
    "   SKU PRIMARY KEY,\n",
    "   PROD_NAME TEXT,\n",
    "   PRICE FLOAT(2),\n",
    "   WEIGHT FLOAT(2)\n",
    ")'''\n",
    "# Записуємо у дб дані\n",
    "cursor.execute(sql)\n",
    "for key, value in my_base.items():\n",
    "    sc = \"44\"\n",
    "    query = f'''INSERT INTO PRODUCTS(SKU, PROD_NAME, PRICE, WEIGHT)\n",
    "    VALUES({key[5:]}, \"{(value[\"Name\"])}\", \"{value[\"Price\"]}\", \"{value[\"Weight\"]}\")'''\n",
    "    cursor.execute(query)\n",
    "conn.commit()\n",
    "conn.close()"
   ]
  },
  {
   "cell_type": "markdown",
   "metadata": {
    "pycharm": {
     "name": "#%% md\n"
    }
   },
   "source": [
    "### Завдання 3: "
   ]
  },
  {
   "cell_type": "markdown",
   "metadata": {
    "pycharm": {
     "name": "#%% md\n"
    }
   },
   "source": [
    "Ознайомтеся із роботою SQLite та відповідним модулем у Python.\n",
    "Завантажте базу даних для виконання лабораторної роботи.\n",
    "Підключіться до завантаженої бази SQLite."
   ]
  },
  {
   "cell_type": "markdown",
   "metadata": {
    "pycharm": {
     "name": "#%% md\n"
    }
   },
   "source": [
    "1. Виведіть інформацію про дану базу."
   ]
  },
  {
   "cell_type": "code",
   "execution_count": 1,
   "metadata": {
    "pycharm": {
     "name": "#%%\n"
    }
   },
   "outputs": [
    {
     "name": "stdout",
     "output_type": "stream",
     "text": [
      "CREATE TABLE Customers\n",
      "(\n",
      "  cust_id      char(10)  NOT NULL ,\n",
      "  cust_name    char(50)  NOT NULL ,\n",
      "  cust_address char(50)  NULL ,\n",
      "  cust_city    char(50)  NULL ,\n",
      "  cust_state   char(5)   NULL ,\n",
      "  cust_zip     char(10)  NULL ,\n",
      "  cust_country char(50)  NULL ,\n",
      "  cust_contact char(50)  NULL ,\n",
      "  cust_email   char(255) NULL ,\n",
      "  PRIMARY KEY (cust_id)\n",
      ")\n",
      "CREATE TABLE OrderItems\n",
      "(\n",
      "  order_num  int          NOT NULL                      ,\n",
      "  order_item int          NOT NULL                      ,\n",
      "  prod_id    char(10)     NOT NULL                      ,\n",
      "  quantity   int          NOT NULL                      ,\n",
      "  item_price decimal(8,2) NOT NULL                      ,\n",
      "  PRIMARY KEY (order_num, order_item)                   ,\n",
      "  FOREIGN KEY (order_num) REFERENCES Orders (order_num) ,\n",
      "  FOREIGN KEY (prod_id) REFERENCES Products (prod_id)\n",
      ")\n",
      "CREATE TABLE Orders\n",
      "(\n",
      "  order_num  int      NOT NULL ,\n",
      "  order_date datetime NOT NULL ,\n",
      "  cust_id    char(10) NOT NULL ,\n",
      "  PRIMARY KEY (order_num)      ,\n",
      "  FOREIGN KEY (cust_id) REFERENCES Customers (cust_id)\n",
      ")\n",
      "CREATE TABLE Products\n",
      "(\n",
      "  prod_id    char(10)      NOT NULL ,\n",
      "  vend_id    char(10)      NOT NULL ,\n",
      "  prod_name  char(255)     NOT NULL ,\n",
      "  prod_price decimal(8,2)  NOT NULL ,\n",
      "  prod_desc  text          NULL     ,\n",
      "  PRIMARY KEY (prod_id)             ,\n",
      "  FOREIGN KEY (vend_id) REFERENCES Vendors (vend_id)\n",
      ")\n",
      "CREATE TABLE Vendors\n",
      "(\n",
      "  vend_id      char(10) NOT NULL ,\n",
      "  vend_name    char(50) NOT NULL ,\n",
      "  vend_address char(50) NULL     ,\n",
      "  vend_city    char(50) NULL     ,\n",
      "  vend_state   char(5)  NULL     ,\n",
      "  vend_zip     char(10) NULL     ,\n",
      "  vend_country char(50) NULL     ,\n",
      "  PRIMARY KEY (vend_id)\n",
      ")\n"
     ]
    }
   ],
   "source": [
    "import sqlite3\n",
    "conn = sqlite3.connect('tysql.sqlite')\n",
    "cursor = conn.cursor()\n",
    "cursor.execute(\"SELECT sql FROM sqlite_master WHERE type='table';\")\n",
    "result = cursor.fetchall()\n",
    "for i in result:\n",
    "    print(i[0])"
   ]
  },
  {
   "cell_type": "markdown",
   "metadata": {
    "pycharm": {
     "name": "#%% md\n"
    }
   },
   "source": [
    "2. Виведіть перелік всіх таблиць."
   ]
  },
  {
   "cell_type": "code",
   "execution_count": 2,
   "metadata": {
    "pycharm": {
     "name": "#%%\n"
    }
   },
   "outputs": [
    {
     "name": "stdout",
     "output_type": "stream",
     "text": [
      "Customers\n",
      "\n",
      "OrderItems\n",
      "\n",
      "Orders\n",
      "\n",
      "Products\n",
      "\n",
      "Vendors\n",
      "\n"
     ]
    }
   ],
   "source": [
    "for i in result:\n",
    "    i = str(i[0])\n",
    "    print(i.split(sep = \"(\")[0][13:])"
   ]
  },
  {
   "attachments": {},
   "cell_type": "markdown",
   "metadata": {
    "pycharm": {
     "name": "#%% md\n"
    }
   },
   "source": [
    "3. Список всіх cust_id з таблиці Customers table."
   ]
  },
  {
   "cell_type": "code",
   "execution_count": 3,
   "metadata": {
    "pycharm": {
     "name": "#%%\n"
    }
   },
   "outputs": [
    {
     "name": "stdout",
     "output_type": "stream",
     "text": [
      "[('1000000001',), ('1000000002',), ('1000000003',), ('1000000004',), ('1000000005',)]\n"
     ]
    }
   ],
   "source": [
    "cursor.execute(\"SELECT cust_id FROM Customers\")\n",
    "print(cursor.fetchall())"
   ]
  },
  {
   "attachments": {},
   "cell_type": "markdown",
   "metadata": {
    "pycharm": {
     "name": "#%% md\n"
    }
   },
   "source": [
    "4. Всю таблицю Customers table"
   ]
  },
  {
   "cell_type": "code",
   "execution_count": 4,
   "metadata": {
    "pycharm": {
     "name": "#%%\n"
    }
   },
   "outputs": [
    {
     "name": "stdout",
     "output_type": "stream",
     "text": [
      "[('1000000001', 'Village Toys', '200 Maple Lane', 'Detroit', 'MI', '44444', 'USA', 'John Smith', 'sales@villagetoys.com'), ('1000000002', 'Kids Place', '333 South Lake Drive', 'Columbus', 'OH', '43333', 'USA', 'Michelle Green', None), ('1000000003', 'Fun4All', '1 Sunny Place', 'Muncie', 'IN', '42222', 'USA', 'Jim Jones', 'jjones@fun4all.com'), ('1000000004', 'Fun4All', '829 Riverside Drive', 'Phoenix', 'AZ', '88888', 'USA', 'Denise L. Stephens', 'dstephens@fun4all.com'), ('1000000005', 'The Toy Store', '4545 53rd Street', 'Chicago', 'IL', '54545', 'USA', 'Kim Howard', None)]\n"
     ]
    }
   ],
   "source": [
    "cursor.execute(\"SELECT * FROM Customers\")\n",
    "print(cursor.fetchall())"
   ]
  },
  {
   "attachments": {},
   "cell_type": "markdown",
   "metadata": {
    "pycharm": {
     "name": "#%% md\n"
    }
   },
   "source": [
    "5. Список клієнтів (cust_names) відсортованих від Z до A"
   ]
  },
  {
   "cell_type": "code",
   "execution_count": 74,
   "metadata": {
    "pycharm": {
     "name": "#%%\n"
    }
   },
   "outputs": [
    {
     "name": "stdout",
     "output_type": "stream",
     "text": [
      "[('Village Toys',), ('The Toy Store',), ('Kids Place',), ('Fun4All',), ('Fun4All',)]\n"
     ]
    }
   ],
   "source": [
    "cursor.execute(\"SELECT cust_name FROM Customers ORDER BY cust_name DESC\")\n",
    "print(cursor.fetchall())"
   ]
  },
  {
   "cell_type": "markdown",
   "metadata": {
    "pycharm": {
     "name": "#%% md\n"
    }
   },
   "source": [
    "6. Таблицю клієнтів та замовлень (cust_id і order_num) . Відсортуйте по клієнту і потім по даті замовлення"
   ]
  },
  {
   "cell_type": "code",
   "execution_count": 9,
   "metadata": {
    "pycharm": {
     "name": "#%%\n"
    }
   },
   "outputs": [
    {
     "name": "stdout",
     "output_type": "stream",
     "text": [
      "[('1000000001', 20005), ('1000000001', 20009), ('1000000003', 20006), ('1000000004', 20007), ('1000000005', 20008)]\n"
     ]
    }
   ],
   "source": [
    "cursor.execute(\"SELECT cust_id, order_num FROM Orders ORDER BY cust_id, order_num\")\n",
    "print(cursor.fetchall())"
   ]
  },
  {
   "cell_type": "markdown",
   "metadata": {
    "pycharm": {
     "name": "#%% md\n"
    }
   },
   "source": [
    "7. Таблицю (на основі Items) з кількість та вартістю товару. Відсортуйте в порядку спадання по кількості та вартості"
   ]
  },
  {
   "cell_type": "code",
   "execution_count": 12,
   "metadata": {
    "pycharm": {
     "name": "#%%\n"
    }
   },
   "outputs": [
    {
     "name": "stdout",
     "output_type": "stream",
     "text": [
      "[('BNBG01', 250, 2.49), ('BNBG02', 250, 2.49), ('BNBG03', 250, 2.49), ('BR03', 100, 10.99), ('BR01', 100, 5.49), ('BNBG01', 100, 2.99), ('BNBG02', 100, 2.99), ('BNBG03', 100, 2.99), ('BR03', 50, 11.49), ('RGAN01', 50, 4.49), ('BR01', 20, 5.99), ('BR03', 10, 11.99), ('BR02', 10, 8.99), ('BNBG01', 10, 3.49), ('BNBG02', 10, 3.49), ('BNBG03', 10, 3.49), ('BR03', 5, 11.99), ('RGAN01', 5, 4.99)]\n"
     ]
    }
   ],
   "source": [
    "cursor.execute(\"\"\"\n",
    "SELECT prod_id, quantity, item_price FROM OrderItems ORDER BY quantity DESC, item_price DESC\"\"\")\n",
    "print(cursor.fetchall())"
   ]
  },
  {
   "cell_type": "markdown",
   "metadata": {
    "pycharm": {
     "name": "#%% md\n"
    }
   },
   "source": [
    "8. Товар (з таблиці Products), ціна якого становить 9.49"
   ]
  },
  {
   "cell_type": "code",
   "execution_count": 13,
   "metadata": {
    "pycharm": {
     "name": "#%%\n"
    }
   },
   "outputs": [
    {
     "name": "stdout",
     "output_type": "stream",
     "text": [
      "[('King doll',), ('Queen doll',)]\n"
     ]
    }
   ],
   "source": [
    "cursor.execute(\"SELECT prod_name FROM Products WHERE prod_price IS 9.49\")\n",
    "print(cursor.fetchall())"
   ]
  },
  {
   "cell_type": "markdown",
   "metadata": {
    "pycharm": {
     "name": "#%% md\n"
    }
   },
   "source": [
    "9. Виведіть назву товару та ціну, яка лежить в діапазоні від  3 до 6. Відсортуйте результат в по ціні в порядку зростання"
   ]
  },
  {
   "cell_type": "code",
   "execution_count": 14,
   "metadata": {
    "pycharm": {
     "name": "#%%\n"
    }
   },
   "outputs": [
    {
     "name": "stdout",
     "output_type": "stream",
     "text": [
      "[('Fish bean bag toy', 3.49), ('Bird bean bag toy', 3.49), ('Rabbit bean bag toy', 3.49), ('Raggedy Ann', 4.99), ('8 inch teddy bear', 5.99)]\n"
     ]
    }
   ],
   "source": [
    "cursor.execute(\"SELECT prod_name, prod_price FROM Products WHERE prod_price BETWEEN 3 AND 6 ORDER BY prod_price\")\n",
    "print(cursor.fetchall())"
   ]
  },
  {
   "cell_type": "markdown",
   "metadata": {
    "pycharm": {
     "name": "#%% md\n"
    }
   },
   "source": [
    "10. Кількість товару, що було продано"
   ]
  },
  {
   "cell_type": "code",
   "execution_count": 17,
   "metadata": {
    "pycharm": {
     "name": "#%%\n"
    }
   },
   "outputs": [
    {
     "name": "stdout",
     "output_type": "stream",
     "text": [
      "[(1430,)]\n"
     ]
    }
   ],
   "source": [
    "cursor.execute(\"SELECT SUM(quantity) FROM OrderItems \")\n",
    "print(cursor.fetchall())"
   ]
  },
  {
   "cell_type": "markdown",
   "metadata": {
    "pycharm": {
     "name": "#%% md\n"
    }
   },
   "source": [
    "11. Кількість найменувань товару, ціна якого більша за 4"
   ]
  },
  {
   "cell_type": "code",
   "execution_count": 18,
   "metadata": {
    "pycharm": {
     "name": "#%%\n"
    }
   },
   "outputs": [
    {
     "name": "stdout",
     "output_type": "stream",
     "text": [
      "[(6,)]\n"
     ]
    }
   ],
   "source": [
    "cursor.execute(\"SELECT COUNT(prod_name) FROM Products WHERE prod_price > 4\")\n",
    "print(cursor.fetchall())"
   ]
  },
  {
   "cell_type": "markdown",
   "metadata": {
    "pycharm": {
     "name": "#%% md\n"
    }
   },
   "source": [
    "12. Розробіть алгоритм для виведення 3 найдорожчих товарів в базі"
   ]
  },
  {
   "cell_type": "code",
   "execution_count": 25,
   "metadata": {
    "pycharm": {
     "name": "#%%\n"
    }
   },
   "outputs": [
    {
     "name": "stdout",
     "output_type": "stream",
     "text": [
      "[('18 inch teddy bear',), ('Queen doll',), ('King doll',)]\n"
     ]
    }
   ],
   "source": [
    "cursor.execute(\"SELECT prod_name FROM Products GROUP BY prod_name ORDER BY MAX(prod_price) DESC LIMIT 3\")\n",
    "print(cursor.fetchall())"
   ]
  },
  {
   "cell_type": "markdown",
   "metadata": {
    "pycharm": {
     "name": "#%% md\n"
    }
   },
   "source": [
    "13. Підрахуйте кількість замовлень для кожного клієнта використовуючи підзапити"
   ]
  },
  {
   "cell_type": "code",
   "execution_count": 28,
   "metadata": {
    "pycharm": {
     "name": "#%%\n"
    }
   },
   "outputs": [
    {
     "name": "stdout",
     "output_type": "stream",
     "text": [
      "[('Fun4All', 2), ('The Toy Store', 1), ('Village Toys', 2)]\n"
     ]
    }
   ],
   "source": [
    "cursor.execute(\"SELECT cust_name, COUNT(order_num) FROM Orders INNER JOIN Customers ON Orders.cust_id = Customers.cust_id GROUP BY cust_name\")\n",
    "print(cursor.fetchall())"
   ]
  },
  {
   "cell_type": "markdown",
   "metadata": {
    "pycharm": {
     "name": "#%% md\n"
    }
   },
   "source": [
    "14. Виведіть список клієнтів та їх замовлення (використайте JOIN)"
   ]
  },
  {
   "cell_type": "code",
   "execution_count": 33,
   "metadata": {
    "pycharm": {
     "name": "#%%\n"
    }
   },
   "outputs": [
    {
     "name": "stdout",
     "output_type": "stream",
     "text": [
      "[('Fun4All', '8 inch teddy bear'), ('Kids Place', None), ('The Toy Store', 'Raggedy Ann'), ('Village Toys', '8 inch teddy bear')]\n"
     ]
    }
   ],
   "source": [
    "cursor.execute(\"\"\"SELECT cust_name, prod_name\n",
    "                FROM Customers\n",
    "                LEFT JOIN Orders ON Orders.cust_id = Customers.cust_id\n",
    "                LEFT JOIN OrderItems ON Orders.order_num = OrderItems.order_num\n",
    "                LEFT JOIN Products ON OrderItems.prod_id = Products.prod_id\n",
    "                GROUP BY cust_name\"\"\")\n",
    "print(cursor.fetchall())"
   ]
  },
  {
   "cell_type": "markdown",
   "metadata": {
    "pycharm": {
     "name": "#%% md\n"
    }
   },
   "source": [
    "15. Зробіть два запити: список товарів, ціна яких менша 5 та список товарів, ціна який більша рівна 5. Використайте UNION для об'єднання цих запитів"
   ]
  },
  {
   "cell_type": "code",
   "execution_count": 35,
   "metadata": {
    "pycharm": {
     "name": "#%%\n"
    }
   },
   "outputs": [
    {
     "name": "stdout",
     "output_type": "stream",
     "text": [
      "[('12 inch teddy bear',), ('18 inch teddy bear',), ('8 inch teddy bear',), ('Bird bean bag toy',), ('Fish bean bag toy',), ('King doll',), ('Queen doll',), ('Rabbit bean bag toy',), ('Raggedy Ann',)]\n"
     ]
    }
   ],
   "source": [
    "cursor.execute(\"SELECT prod_name FROM Products WHERE prod_price < 5 UNION SELECT prod_name FROM Products WHERE prod_price >= 5\")\n",
    "print(cursor.fetchall())"
   ]
  },
  {
   "cell_type": "markdown",
   "metadata": {
    "pycharm": {
     "name": "#%% md\n"
    }
   },
   "source": [
    "### Завдання 4:"
   ]
  },
  {
   "cell_type": "markdown",
   "source": [
    "Зареєструйтеся на сайті  http://www.sql-ex.ru/\n",
    "\n",
    "Виконайте завдання із блоку SELECT; з 1 по 30 завдання\n",
    "\n",
    "Код запитів вставляйте сюди\n"
   ],
   "metadata": {
    "collapsed": false,
    "pycharm": {
     "name": "#%% md\n"
    }
   }
  },
  {
   "cell_type": "code",
   "execution_count": null,
   "outputs": [],
   "source": [
    "#Завдання 1\n",
    "SELECT Product.model, PC.speed, PC.hd\n",
    "FROM Product\n",
    "LEFT JOIN PC on Product.model = PC.model\n",
    "WHERE PC.price < 500\n",
    "#Завдання 2\n",
    "SELECT DISTINCT maker\n",
    "FROM Product\n",
    "WHERE type = 'Printer'\n",
    "#Завдання 3\n",
    "SELECT model, ram, screen\n",
    "FROM Laptop\n",
    "WHERE price > 1000\n",
    "#Завдання 4\n",
    "SELECT code, model, color, type, price\n",
    "FROM printer\n",
    "WHERE color='y'\n",
    "#Завдання 5\n",
    "SELECT model, speed, hd\n",
    "FROM PC\n",
    "WHERE price > 600 AND (cd=\"12x\" OR cd=\"24x\")\n",
    "#Завдання 6\n",
    "SELECT DISTINCT Product.maker, Laptop.speed\n",
    "FROM Product, Laptop\n",
    "WHERE Product.model = Laptop.model\n",
    "AND Laptop.hd >= 10\n",
    "#Завдання 7\n",
    "SELECT PC.model, price\n",
    "FROM PC INNER JOIN Product ON PC.model = Product.model\n",
    "WHERE maker = 'B'\n",
    "GROUP BY PC.model, price\n",
    "UNION\n",
    "SELECT Laptop.model, price\n",
    "FROM Laptop INNER JOIN Product ON Laptop.model = Product.model\n",
    "WHERE maker = 'B'\n",
    "GROUP BY Laptop.model, price\n",
    "UNION\n",
    "SELECT Printer.model, price\n",
    "FROM Printer INNER JOIN Product ON Printer.model = Product.model\n",
    "WHERE maker = 'B'\n",
    "GROUP BY Printer.model, price\n",
    "#Завдання 8\n",
    "SELECT maker\n",
    "FROM Product\n",
    "WHERE maker NOT IN (SELECT maker\n",
    "FROM Product\n",
    "WHERE model IN (SELECT model FROM Laptop)) AND model IN (SELECT model FROM PC)\n",
    "GROUP BY maker\n",
    "#Завдання 9\n",
    "SELECT maker\n",
    "FROM Product INNER JOIN PC ON Product.model = PC.model\n",
    "WHERE speed >= 450\n",
    "GROUP BY maker\n",
    "#Завдання 10\n",
    "SELECT model, price\n",
    "FROM Printer\n",
    "WHERE price = (SELECT MAX(price) FROM printer)\n",
    "#Завдання 11\n",
    "SELECT AVG(speed)\n",
    "FROM PC\n",
    "#Завдання 12\n",
    "SELECT AVG(speed)\n",
    "FROM Laptop\n",
    "WHERE price > 1000\n",
    "#Завдання 13\n",
    "SELECT AVG(speed)\n",
    "FROM PC INNER JOIN Product ON PC.model = Product.model\n",
    "WHERE maker = 'A'\n",
    "#Завдання 14\n",
    "SELECT Ships.class, name, country\n",
    "FROM Ships INNER JOIN Classes ON Ships.class = Classes.class\n",
    "WHERE numGuns >= 10\n",
    "#Завдання 15\n",
    "SELECT hd\n",
    "FROM PC\n",
    "GROUP BY hd\n",
    "HAVING COUNT(hd) > 1\n",
    "#Завдання 16\n",
    "SELECT MAX(model), MIN(model), speed, RAM\n",
    "FROM PC\n",
    "GROUP BY speed, RAM\n",
    "HAVING COUNT(speed) > 1 AND MAX(model) <> MIN(model)\n",
    "#Завдання 17\n",
    "SELECT type, Laptop.model, speed\n",
    "FROM Laptop INNER JOIN Product ON Laptop.model = Product.model\n",
    "WHERE speed < ALL (SELECT speed\n",
    "FROM PC)\n",
    "#Завдання 18\n",
    "SELECT maker, price\n",
    "FROM Product INNER JOIN Printer ON Product.model = Printer.model\n",
    "WHERE price = (SELECT MIN(price) FROM Printer WHERE color = 'y') AND color = 'y'\n",
    "\n",
    "#Завдання 19\n",
    "SELECT maker, AVG(screen)\n",
    "FROM Product INNER JOIN Laptop ON Product.model = Laptop.model\n",
    "GROUP BY maker\n",
    "\n",
    "#Завдання 20\n",
    "SELECT Maker, COUNT(model) AS Count_Model\n",
    "FROM Product\n",
    "WHERE type = 'PC'\n",
    "GROUP BY Maker\n",
    "HAVING COUNT(model) > 2\n",
    "#Завдання 21\n",
    "SELECT maker, MAX(price) AS Max_price\n",
    "FROM Product INNER JOIN PC ON Product.model = PC.model\n",
    "GROUP BY maker\n",
    "\n",
    "#Завдання 22\n",
    "SELECT speed, AVG(price)\n",
    "FROM PC\n",
    "WHERE speed > 600\n",
    "GROUP BY speed\n",
    "#Завдання 23\n",
    "SELECT maker\n",
    "FROM Product\n",
    "WHERE model IN (SELECT model FROM PC WHERE speed >= 750\n",
    "INTERSECT\n",
    "SELECT model FROM PC WHERE speed >= 750)\n",
    "GROUP BY maker\n",
    "#Завдання 24\n",
    "SELECT model\n",
    "FROM (SELECT model 'model', price\n",
    "FROM PC\n",
    "UNION ALL\n",
    "SELECT model 'model', price\n",
    "FROM Laptop\n",
    "UNION ALL\n",
    "SELECT model 'model', price\n",
    "FROM Printer) X\n",
    "WHERE price >= ALL(SELECT price\n",
    "FROM PC\n",
    "UNION ALL\n",
    "SELECT price\n",
    "FROM Laptop\n",
    "UNION ALL\n",
    "SELECT price\n",
    "FROM Printer)\n",
    "#Завдання 25\n",
    "SELECT maker\n",
    "FROM Product\n",
    "WHERE model IN\n",
    "((SELECT model FROM PC WHERE ram = (SELECT MIN(ram) FROM PC))\n",
    "UNION ALL\n",
    "(SELECT model FROM PC WHERE speed = (SELECT MAX(speed) FROM PC)))\n",
    "GROUP BY maker\n",
    "#Завдання 26\n",
    "SELECT AVG(price)\n",
    "FROM (SELECT price 'Price'\n",
    "FROM PC INNER JOIN Product ON PC.model = Product.model\n",
    "WHERE maker = 'A'\n",
    "UNION\n",
    "SELECT price 'Price'\n",
    "FROM Laptop INNER JOIN Product ON Laptop.model = Product.model\n",
    "WHERE maker = 'A') X\n",
    "\n",
    "#Завдання 27\n",
    "SELECT maker, (SELECT AVG(hd) FROM PC)\n",
    "FROM printer INNER JOIN Product ON printer.model = Product.model\n",
    "WHERE maker IN (SELECT maker FROM PC INNER JOIN Product ON PC.model = Product.model)\n",
    "GROUP BY maker\n",
    "#Завдання 28\n",
    "SELECT COUNT(maker) AS qty\n",
    "FROM\n",
    "(SELECT maker\n",
    "FROM (SELECT maker, PC.model\n",
    "FROM PC INNER JOIN Product ON PC.model = Product.model\n",
    "UNION\n",
    "SELECT maker, Laptop.model\n",
    "FROM Laptop INNER JOIN Product ON Laptop.model = Product.model\n",
    "UNION\n",
    "SELECT maker, Printer.model\n",
    "FROM Printer INNER JOIN Product ON Printer.model = Product.model) X\n",
    "GROUP BY maker\n",
    "HAVING COUNT(maker) = 1) Y\n",
    "#Завдання 29\n",
    "SELECT Income.point, Income.date, inc, out\n",
    "FROM Income LEFT JOIN Outcome ON Income.code = Outcome. code\n",
    "#Завдання 30\n",
    "SELECT Income.point, Income.date, SUM(inc), SUM(out)\n",
    "FROM Income INNER JOIN Outcome ON Income.point = Outcome.point\n",
    "GROUP BY Income.point, Income.date\n"
   ],
   "metadata": {
    "collapsed": false,
    "pycharm": {
     "name": "#%%\n"
    }
   }
  }
 ],
 "metadata": {
  "kernelspec": {
   "display_name": "Python 3",
   "language": "python",
   "name": "python3"
  },
  "language_info": {
   "codemirror_mode": {
    "name": "ipython",
    "version": 3
   },
   "file_extension": ".py",
   "mimetype": "text/x-python",
   "name": "python",
   "nbconvert_exporter": "python",
   "pygments_lexer": "ipython3",
   "version": "3.7.6"
  }
 },
 "nbformat": 4,
 "nbformat_minor": 2
}